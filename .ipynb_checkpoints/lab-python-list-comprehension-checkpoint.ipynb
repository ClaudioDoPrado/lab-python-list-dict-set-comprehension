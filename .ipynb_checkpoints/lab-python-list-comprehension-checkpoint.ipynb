{
 "cells": [
  {
   "cell_type": "markdown",
   "id": "25d7736c-ba17-4aff-b6bb-66eba20fbf4e",
   "metadata": {},
   "source": [
    "# Lab | List, Dict and Set Comprehension"
   ]
  },
  {
   "cell_type": "markdown",
   "id": "7dd3cbde-675a-4b81-92c3-f728846dbe06",
   "metadata": {},
   "source": [
    "## Exercise: Managing Customer Orders Optimized with Comprehension"
   ]
  },
  {
   "cell_type": "markdown",
   "id": "5d500160-2fb7-4777-b5e4-09d45ebaf328",
   "metadata": {},
   "source": [
    "In the previous exercise, you developed a program to manage customer orders and inventory. Now, let's take it a step further and incorporate comprehension into your code.\n",
    "\n",
    "Follow the steps below to complete the exercise:\n",
    "\n",
    "1. Review your code from the previous exercise and identify areas where you can apply comprehension to simplify and streamline your code. \n",
    "\n",
    "    - *Hint: Apply it to initialize inventory, updating the inventory and printing the updated inventory.*\n",
    "    \n",
    "    - For example, in initializing the inventory, we could have:\n",
    "    \n",
    "        ```python\n",
    "        def initialize_inventory(products):\n",
    "            inventory = {product: int(input(f\"Enter the quantity of {product}s available: \")) for product in products}\n",
    "            return inventory\n",
    "\n",
    "        ```\n",
    "<br>\n",
    "    \n",
    "    \n",
    "2. Modify the function get_customer_orders so it prompts the user to enter the number of customer orders and gathers the product names using a loop and user input. Use comprehension.\n",
    "\n",
    "3. Add a new function to calculate the total price of the customer order. For each product in customer_orders, prompt the user to enter the price of that product. Use comprehension to calculate the total price. Note: assume that the user can only have 1 unit of each product.\n",
    "\n",
    "4. Modify the update_inventory function to remove the product from the inventory if its quantity becomes zero after fulfilling the customer orders. Use comprehension to filter out the products with a quantity of zero from the inventory.\n",
    "\n",
    "5. Print the total price of the customer order.\n",
    "\n",
    "Your code should produce output similar to the following:\n",
    "\n",
    "```python\n",
    "Enter the quantity of t-shirts available:  5\n",
    "Enter the quantity of mugs available:  4\n",
    "Enter the quantity of hats available:  3\n",
    "Enter the quantity of books available:  2\n",
    "Enter the quantity of keychains available:  1\n",
    "Enter the number of customer orders:  2\n",
    "Enter the name of a product that a customer wants to order:  hat\n",
    "Enter the name of a product that a customer wants to order:  keychain\n",
    "\n",
    "Order Statistics:\n",
    "Total Products Ordered: 2\n",
    "Percentage of Unique Products Ordered: 40.0\n",
    "\n",
    "Updated Inventory:\n",
    "t-shirt: 5\n",
    "mug: 4\n",
    "hat: 2\n",
    "book: 2\n",
    "Enter the price of keychain:  5\n",
    "Enter the price of hat:  10\n",
    "Total Price: 15.0\n",
    "\n",
    "```\n"
   ]
  },
  {
   "cell_type": "code",
   "execution_count": 1,
   "id": "bd4c9a5a-bc95-4b7c-89f1-bf45fceae3c9",
   "metadata": {},
   "outputs": [],
   "source": [
    "products = [\"t-shirt\", \"mug\", \"hat\", \"book\", \"keychain\"]"
   ]
  },
  {
   "cell_type": "code",
   "execution_count": 3,
   "id": "0cebfc21-3560-4736-9609-1bb50d97132a",
   "metadata": {},
   "outputs": [],
   "source": [
    "def initialize_inventory(products):\n",
    "    inventory = {product: int(input(f\"Enter the quantity of {product}s available: \")) for product in products}\n",
    "    return inventory"
   ]
  },
  {
   "cell_type": "code",
   "execution_count": 5,
   "id": "41a34b66-a1cc-4b9d-a107-18debe168d91",
   "metadata": {},
   "outputs": [],
   "source": [
    "def get_customer_orders(products):\n",
    "    customer_orders = set()    \n",
    "    num_orders = int(input(\"How many customer orders would you like to enter? \"))  \n",
    "    customer_orders = {input(f\"Enter the name of product {i + 1} (choose from {products}): \") \n",
    "                       for i in range(num_orders) if input(f\"Enter the name of product {i + 1} (choose from {products}): \") in products}\n",
    "    return customer_orders"
   ]
  },
  {
   "cell_type": "code",
   "execution_count": 7,
   "id": "7fcfcbb4-dd2e-45a5-83db-ac470933008a",
   "metadata": {},
   "outputs": [],
   "source": [
    "def calculate_total_price(customer_orders):\n",
    "    prices = {product: float(input(f\"Enter the price for {product}: \")) for product in customer_orders}\n",
    "    total_price = sum(prices.values())\n",
    "    return total_price"
   ]
  },
  {
   "cell_type": "code",
   "execution_count": 9,
   "id": "8f4a5d7a-6294-4620-a67d-05df5db8623c",
   "metadata": {},
   "outputs": [],
   "source": [
    "def update_inventory(customer_orders, inventory):\n",
    "    for product in customer_orders:\n",
    "        if product in inventory:\n",
    "            if inventory[product] > 0:\n",
    "                inventory[product] -= 1\n",
    "                print(f\"Updated inventory: {product} quantity is now {inventory[product]}.\")\n",
    "            else:\n",
    "                print(f\"Cannot complete order for {product}: out of stock.\")\n",
    "        else:\n",
    "            print(f\"{product} is not in the inventory.\")\n",
    "    inventory = {product: qty for product, qty in inventory.items() if qty > 0}\n",
    "    return inventory"
   ]
  },
  {
   "cell_type": "code",
   "execution_count": 11,
   "id": "e99c9d44-a300-4baa-bdec-b9091d3cf2fb",
   "metadata": {},
   "outputs": [],
   "source": [
    "def calculate_order_statistics(customer_orders, products):\n",
    "    \"\"\"Calculates and returns order statistics.\"\"\"\n",
    "    total_products_ordered = len(customer_orders)\n",
    "    percentage_ordered = (total_products_ordered / len(products)) * 100\n",
    "    return total_products_ordered, percentage_ordered"
   ]
  },
  {
   "cell_type": "code",
   "execution_count": 13,
   "id": "4b5818fb-31d0-4d1a-92b0-87899f6536aa",
   "metadata": {},
   "outputs": [],
   "source": [
    "def print_order_statistics(order_statistics):\n",
    "    \"\"\"Prints order statistics.\"\"\"\n",
    "    total_ordered, percentage_ordered = order_statistics\n",
    "    print(\"Order Statistics:\")\n",
    "    print(f\"Total Products Ordered: {total_ordered}\")\n",
    "    print(f\"Percentage of Products Ordered: {percentage_ordered:.2f}%\")"
   ]
  },
  {
   "cell_type": "code",
   "execution_count": 15,
   "id": "0a613b81-488c-4d48-a857-9dcddc73c244",
   "metadata": {},
   "outputs": [],
   "source": [
    "def print_updated_inventory(inventory):\n",
    "    \"\"\"Prints the updated inventory.\"\"\"\n",
    "    print(\"Updated Inventory:\")\n",
    "    for product, quantity in inventory.items():\n",
    "        print(f\"{product}: {quantity}\")"
   ]
  },
  {
   "cell_type": "code",
   "execution_count": 27,
   "id": "a9c36925-b297-43e3-ab9e-3596b74d74ca",
   "metadata": {},
   "outputs": [
    {
     "name": "stdin",
     "output_type": "stream",
     "text": [
      "Enter the quantity of t-shirts available:  5\n",
      "Enter the quantity of mugs available:  4\n",
      "Enter the quantity of hats available:  3\n",
      "Enter the quantity of books available:  2\n",
      "Enter the quantity of keychains available:  1\n",
      "Enter the price for t-shirt:  10\n",
      "Enter the price for mug:  10\n",
      "Enter the price for hat:  10\n",
      "Enter the price for book:  5\n",
      "Enter the price for keychain:  5\n",
      "How many customer orders would you like to enter?  2\n",
      "Enter the name of product 1 (choose from ['t-shirt', 'mug', 'hat', 'book', 'keychain']):  hat\n",
      "Enter the name of product 1 (choose from ['t-shirt', 'mug', 'hat', 'book', 'keychain']):  kaychain\n",
      "Enter the name of product 2 (choose from ['t-shirt', 'mug', 'hat', 'book', 'keychain']):  hat\n",
      "Enter the name of product 2 (choose from ['t-shirt', 'mug', 'hat', 'book', 'keychain']):  keychain\n"
     ]
    },
    {
     "name": "stdout",
     "output_type": "stream",
     "text": [
      "Order Statistics:\n",
      "Total Products Ordered: 2\n",
      "Percentage of Products Ordered: 40.00%\n",
      "Updated Inventory:\n",
      "t-shirt: 5\n",
      "mug: 4\n",
      "hat: 3\n",
      "book: 2\n",
      "keychain: 1\n"
     ]
    },
    {
     "ename": "TypeError",
     "evalue": "'float' object is not subscriptable",
     "output_type": "error",
     "traceback": [
      "\u001b[1;31m---------------------------------------------------------------------------\u001b[0m",
      "\u001b[1;31mTypeError\u001b[0m                                 Traceback (most recent call last)",
      "Cell \u001b[1;32mIn[27], line 20\u001b[0m\n\u001b[0;32m     17\u001b[0m print_updated_inventory(inventory)\n\u001b[0;32m     19\u001b[0m \u001b[38;5;66;03m# Calculate and display total price for the orders\u001b[39;00m\n\u001b[1;32m---> 20\u001b[0m total_price \u001b[38;5;241m=\u001b[39m \u001b[38;5;28msum\u001b[39m(prices[order] \u001b[38;5;28;01mfor\u001b[39;00m order \u001b[38;5;129;01min\u001b[39;00m customer_orders)\n\u001b[0;32m     21\u001b[0m \u001b[38;5;28mprint\u001b[39m(\u001b[38;5;124mf\u001b[39m\u001b[38;5;124m\"\u001b[39m\u001b[38;5;124mTotal Price for All Orders: $\u001b[39m\u001b[38;5;132;01m{\u001b[39;00mtotal_price\u001b[38;5;132;01m:\u001b[39;00m\u001b[38;5;124m.2f\u001b[39m\u001b[38;5;132;01m}\u001b[39;00m\u001b[38;5;124m\"\u001b[39m)\n",
      "Cell \u001b[1;32mIn[27], line 20\u001b[0m, in \u001b[0;36m<genexpr>\u001b[1;34m(.0)\u001b[0m\n\u001b[0;32m     17\u001b[0m print_updated_inventory(inventory)\n\u001b[0;32m     19\u001b[0m \u001b[38;5;66;03m# Calculate and display total price for the orders\u001b[39;00m\n\u001b[1;32m---> 20\u001b[0m total_price \u001b[38;5;241m=\u001b[39m \u001b[38;5;28msum\u001b[39m(prices[order] \u001b[38;5;28;01mfor\u001b[39;00m order \u001b[38;5;129;01min\u001b[39;00m customer_orders)\n\u001b[0;32m     21\u001b[0m \u001b[38;5;28mprint\u001b[39m(\u001b[38;5;124mf\u001b[39m\u001b[38;5;124m\"\u001b[39m\u001b[38;5;124mTotal Price for All Orders: $\u001b[39m\u001b[38;5;132;01m{\u001b[39;00mtotal_price\u001b[38;5;132;01m:\u001b[39;00m\u001b[38;5;124m.2f\u001b[39m\u001b[38;5;132;01m}\u001b[39;00m\u001b[38;5;124m\"\u001b[39m)\n",
      "\u001b[1;31mTypeError\u001b[0m: 'float' object is not subscriptable"
     ]
    }
   ],
   "source": [
    "if __name__ == \"__main__\":\n",
    "    \n",
    "    # Initialize inventory\n",
    "    inventory = initialize_inventory(products)\n",
    "    \n",
    "    # Get prices for products\n",
    "    prices = calculate_total_price(products)\n",
    "    \n",
    "    # Get customer orders, passing in the products and inventory\n",
    "    customer_orders = get_customer_orders(products, inventory)\n",
    "\n",
    "    # Calculate order statistics\n",
    "    order_statistics = calculate_order_statistics(customer_orders, products)\n",
    "    \n",
    "    # Print statistics and updated inventory\n",
    "    print_order_statistics(order_statistics)\n",
    "    print_updated_inventory(inventory)\n",
    "\n",
    "    # Calculate and display total price for the orders\n",
    "    total_price = sum(prices[order] for order in customer_orders)\n",
    "    print(f\"Total Price for All Orders: ${total_price:.2f}\")"
   ]
  },
  {
   "cell_type": "code",
   "execution_count": null,
   "id": "46b9bd63-5ac9-4b3e-96c5-775cf3addc7d",
   "metadata": {},
   "outputs": [],
   "source": []
  }
 ],
 "metadata": {
  "kernelspec": {
   "display_name": "Python [conda env:base] *",
   "language": "python",
   "name": "conda-base-py"
  },
  "language_info": {
   "codemirror_mode": {
    "name": "ipython",
    "version": 3
   },
   "file_extension": ".py",
   "mimetype": "text/x-python",
   "name": "python",
   "nbconvert_exporter": "python",
   "pygments_lexer": "ipython3",
   "version": "3.12.7"
  }
 },
 "nbformat": 4,
 "nbformat_minor": 5
}
